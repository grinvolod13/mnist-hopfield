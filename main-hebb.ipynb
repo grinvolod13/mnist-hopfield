{
 "cells": [
  {
   "cell_type": "code",
   "execution_count": 1,
   "metadata": {},
   "outputs": [],
   "source": [
    "import tensorflow as tf\n",
    "import tensorflow_datasets as tfds\n",
    "import pandas as pd\n",
    "import matplotlib.pyplot as plt\n",
    "import numpy as np\n",
    "import random\n",
    "import sys"
   ]
  },
  {
   "cell_type": "code",
   "execution_count": 2,
   "metadata": {},
   "outputs": [],
   "source": [
    "from tqdm import tqdm"
   ]
  },
  {
   "cell_type": "code",
   "execution_count": 3,
   "metadata": {},
   "outputs": [],
   "source": [
    "sys.path.append(\"C:/Users/User/Desktop/hopfield-izhikevich/hopfield/\")\n",
    "from hopfield import Hopfield\n",
    "sys.path.pop();"
   ]
  },
  {
   "cell_type": "code",
   "execution_count": 4,
   "metadata": {},
   "outputs": [],
   "source": [
    "def classify(image, dataset, score)-> int:\n",
    "    max_i = 0\n",
    "    for i in range(len(dataset)):\n",
    "        sample = dataset[i]\n",
    "        if score(image, sample) > score(image, dataset[max_i]):\n",
    "            max_i = i\n",
    "    return max_i    "
   ]
  },
  {
   "cell_type": "code",
   "execution_count": 5,
   "metadata": {
    "tags": []
   },
   "outputs": [],
   "source": [
    "def dice_score(prediction, data) -> float:\n",
    "    tp, tn, fp, fn = 0, 0, 0, 0\n",
    "    for p, d in zip(prediction.flat, data.flat):\n",
    "        if d>0 and p>0:\n",
    "            tp += 1\n",
    "        # if d<0 and p<0:\n",
    "        #     tn += 1\n",
    "        if d>0 and p<0:\n",
    "            fn += 1\n",
    "        if d<0 and p>0:\n",
    "            fp += 1\n",
    "  \n",
    "    return 2*tp/(2*tp + fp + fn)"
   ]
  },
  {
   "cell_type": "code",
   "execution_count": 6,
   "metadata": {},
   "outputs": [],
   "source": [
    "def iou_score(prediction, data) -> float:\n",
    "    tp, tn, fp, fn = 0, 0, 0, 0\n",
    "    for p, d in zip(prediction.flat, data.flat):\n",
    "        if d>0 and p>0:\n",
    "            tp += 1\n",
    "        # if d<0 and p<0:\n",
    "        #     tn += 1\n",
    "        if d>0 and p<0:\n",
    "            fn += 1\n",
    "        if d<0 and p>0:\n",
    "            fp += 1\n",
    "  \n",
    "    return tp/(tp + fp + fn)"
   ]
  },
  {
   "cell_type": "code",
   "execution_count": 7,
   "metadata": {},
   "outputs": [],
   "source": [
    "dataset_iter = tfds.as_numpy(tfds.load('mnist', split='train', shuffle_files=True, as_supervised=True))\n",
    "dataset = np.fromiter(dataset_iter, dtype=tuple)\n",
    "dataset_iter_test = tfds.as_numpy(tfds.load('mnist', split='train', shuffle_files=True, as_supervised=True))\n",
    "test = np.fromiter(dataset_iter_test, dtype=tuple)"
   ]
  },
  {
   "cell_type": "code",
   "execution_count": 8,
   "metadata": {},
   "outputs": [],
   "source": [
    "digits = [[] for i in range(10)]\n",
    "index = 0\n",
    "for d in dataset:\n",
    "    digits[d[1]].append(index)\n",
    "    index += 1"
   ]
  },
  {
   "cell_type": "code",
   "execution_count": 9,
   "metadata": {},
   "outputs": [],
   "source": [
    "memory_images = []\n",
    "scale = 0.6\n",
    "threshold = 100\n",
    "shape = ()\n",
    "for digit in range(10):\n",
    "    index = random.choice(digits[ digit ])\n",
    "    image = tf.image.central_crop(dataset[index][0], scale)\n",
    "    image = tf.where(image>threshold, 1, 0)\n",
    "    memory_images.append(image.numpy().flatten())\n",
    "\n",
    "    \n",
    "shape = tuple(image.shape)[:2]\n",
    "memory_images = np.array(memory_images, dtype=np.float32)*2-1\n"
   ]
  },
  {
   "cell_type": "code",
   "execution_count": 10,
   "metadata": {},
   "outputs": [
    {
     "name": "stderr",
     "output_type": "stream",
     "text": [
      "100%|██████████████████████████████████████████████████████████████████████████████| 1000/1000 [02:24<00:00,  6.92it/s]\n"
     ]
    }
   ],
   "source": [
    "test_count = 1000\n",
    "scale = 0.6\n",
    "q = 0\n",
    "method='hebb'\n",
    "\n",
    "result_dice = [[] for i in range(10)]\n",
    "result_iou = [[] for i in range(10)]\n",
    "\n",
    "model = Hopfield()\n",
    "model.train(memory_images, method=method)\n",
    "\n",
    "for index in tqdm(range(test_count)):\n",
    "    image, label = test[index]\n",
    "    image = tf.image.central_crop(image, scale)\n",
    "    image = tf.where(image>threshold, 1, 0)\n",
    "    image = image.numpy().flatten()\n",
    "    image = np.array(image, np.float32)*2-1\n",
    "    \n",
    "    output = model.run(image, q=q)\n",
    "    \n",
    "    predicted_label_dice = classify(output['output'], memory_images, dice_score)\n",
    "    predicted_label_iou = classify(output['output'], memory_images, iou_score)\n",
    "    \n",
    "    result_dice[label].append( predicted_label_dice == label )\n",
    "    result_iou[label].append( predicted_label_iou == label )"
   ]
  },
  {
   "cell_type": "code",
   "execution_count": 11,
   "metadata": {
    "tags": []
   },
   "outputs": [
    {
     "name": "stdout",
     "output_type": "stream",
     "text": [
      "Result with Dice(F1) score classifier\n",
      "0: 15%, 84 tests\n",
      "1: 0%, 109 tests\n",
      "2: 0%, 100 tests\n",
      "3: 0%, 96 tests\n",
      "4: 0%, 113 tests\n",
      "5: 98%, 85 tests\n",
      "6: 0%, 92 tests\n",
      "7: 0%, 94 tests\n",
      "8: 0%, 112 tests\n",
      "9: 0%, 115 tests\n",
      " total: 9.700000000000001%\n"
     ]
    }
   ],
   "source": [
    "i = 0\n",
    "print(\"Result with Dice(F1) score classifier\")\n",
    "result_dice = np.array(result_dice, dtype=object)\n",
    "for stat in result_dice:\n",
    "    print(f\"{i}: {int(sum(stat)/len(stat)*100)}%, {len(stat)} tests\")\n",
    "    i+=1\n",
    "print(f\" total: {sum([sum(i) for i in result_dice])/test_count*100}%\")"
   ]
  }
 ],
 "metadata": {
  "kernelspec": {
   "display_name": "Python 3 (ipykernel)",
   "language": "python",
   "name": "python3"
  },
  "language_info": {
   "codemirror_mode": {
    "name": "ipython",
    "version": 3
   },
   "file_extension": ".py",
   "mimetype": "text/x-python",
   "name": "python",
   "nbconvert_exporter": "python",
   "pygments_lexer": "ipython3",
   "version": "3.10.9"
  },
  "vscode": {
   "interpreter": {
    "hash": "afb734500600fd355917ca529030176ea0ca205570884b88f2f6f7d791fd3fbe"
   }
  }
 },
 "nbformat": 4,
 "nbformat_minor": 4
}
