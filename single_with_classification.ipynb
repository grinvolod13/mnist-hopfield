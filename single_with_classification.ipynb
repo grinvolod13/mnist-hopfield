{
 "cells": [
  {
   "cell_type": "code",
   "execution_count": 2,
   "metadata": {},
   "outputs": [],
   "source": [
    "import tensorflow as tf\n",
    "import tensorflow_datasets as tfds\n",
    "import pandas as pd\n",
    "import matplotlib.pyplot as plt\n",
    "import numpy as np\n",
    "import random\n",
    "import sys"
   ]
  },
  {
   "cell_type": "code",
   "execution_count": 3,
   "metadata": {},
   "outputs": [],
   "source": [
    "sys.path.append(\"C:/Users/User/Desktop/hopfield-izhikevich/hopfield/\")\n",
    "from hopfield import Hopfield\n",
    "sys.path.pop();"
   ]
  },
  {
   "cell_type": "code",
   "execution_count": 4,
   "metadata": {},
   "outputs": [],
   "source": [
    "dataset_iter = tfds.as_numpy(tfds.load('mnist', split='train', shuffle_files=True, as_supervised=True))\n",
    "dataset = np.fromiter(dataset_iter, dtype=tuple)"
   ]
  },
  {
   "cell_type": "code",
   "execution_count": 5,
   "metadata": {},
   "outputs": [],
   "source": [
    "digits = [[] for i in range(10)]\n",
    "index = 0\n",
    "for d in dataset:\n",
    "    digits[d[1]].append(index)\n",
    "    index += 1"
   ]
  },
  {
   "cell_type": "code",
   "execution_count": 6,
   "metadata": {},
   "outputs": [],
   "source": [
    "memory_images = []\n",
    "scale = 0.6\n",
    "threshold = 100\n",
    "shape = ()\n",
    "for digit in range(10):\n",
    "    index = random.choice(digits[ digit ])\n",
    "    image = tf.image.central_crop(dataset[index][0], scale)\n",
    "    image = tf.where(image>threshold, 1, 0)\n",
    "    memory_images.append(image.numpy().flatten())\n",
    "\n",
    "    \n",
    "shape = tuple(image.shape)[:2]\n",
    "memory_images = np.array(memory_images, dtype=np.float32)*2-1\n"
   ]
  },
  {
   "cell_type": "code",
   "execution_count": 7,
   "metadata": {},
   "outputs": [],
   "source": [
    "index = random.choice(digits[ 6 ])\n",
    "image = tf.image.central_crop(dataset[index][0], scale)\n",
    "image = tf.where(image>threshold, 1, 0)\n",
    "image = image.numpy().flatten()\n",
    "image = np.array(image, np.float32)*2-1"
   ]
  },
  {
   "cell_type": "code",
   "execution_count": 8,
   "metadata": {},
   "outputs": [],
   "source": [
    "model = Hopfield()\n",
    "model.train(memory_images)"
   ]
  },
  {
   "cell_type": "code",
   "execution_count": 9,
   "metadata": {},
   "outputs": [],
   "source": [
    "result = model.run(image, q=0.4)"
   ]
  },
  {
   "cell_type": "code",
   "execution_count": 10,
   "metadata": {},
   "outputs": [],
   "source": [
    "def classify(image, dataset, score)-> int:\n",
    "    max_i = 0\n",
    "    for i in range(len(dataset)):\n",
    "        sample = dataset[i]\n",
    "        if score(image, sample) > score(image, dataset[max_i]):\n",
    "            max_i = i\n",
    "    return max_i\n",
    "    "
   ]
  },
  {
   "cell_type": "code",
   "execution_count": 11,
   "metadata": {},
   "outputs": [],
   "source": [
    "def dice_score(prediction, data) -> float:\n",
    "    tp, tn, fp, fn = 0, 0, 0, 0\n",
    "    for p, d in zip(prediction.flat, data.flat):\n",
    "        if d>0 and p>0:\n",
    "            tp += 1\n",
    "        # if d<0 and p<0:\n",
    "        #     tn += 1\n",
    "        if d>0 and p<0:\n",
    "            fn += 1\n",
    "        if d<0 and p>0:\n",
    "            fp += 1\n",
    "  \n",
    "    return 2*tp/(2*tp + fp + fn)"
   ]
  },
  {
   "cell_type": "code",
   "execution_count": 12,
   "metadata": {},
   "outputs": [],
   "source": [
    "def iou_score(prediction, data) -> float:\n",
    "    tp, tn, fp, fn = 0, 0, 0, 0\n",
    "    for p, d in zip(prediction.flat, data.flat):\n",
    "        if d>0 and p>0:\n",
    "            tp += 1\n",
    "        # if d<0 and p<0:\n",
    "        #     tn += 1\n",
    "        if d>0 and p<0:\n",
    "            fn += 1\n",
    "        if d<0 and p>0:\n",
    "            fp += 1\n",
    "  \n",
    "    return tp/(tp + fp + fn)"
   ]
  },
  {
   "cell_type": "code",
   "execution_count": 13,
   "metadata": {},
   "outputs": [
    {
     "data": {
      "text/plain": [
       "5"
      ]
     },
     "execution_count": 13,
     "metadata": {},
     "output_type": "execute_result"
    }
   ],
   "source": [
    "predicted_label = classify(result['output'], memory_images, dice_score)\n",
    "predicted_label"
   ]
  },
  {
   "cell_type": "code",
   "execution_count": 14,
   "metadata": {},
   "outputs": [
    {
     "data": {
      "text/plain": [
       "<matplotlib.image.AxesImage at 0x254461b1f90>"
      ]
     },
     "execution_count": 14,
     "metadata": {},
     "output_type": "execute_result"
    },
    {
     "data": {
      "image/png": "[encoded data removed]",
      "text/plain": [
       "<Figure size 480x480 with 1 Axes>"
      ]
     },
     "metadata": {},
     "output_type": "display_data"
    }
   ],
   "source": [
    "plt.matshow(np.resize(result['output'], shape))"
   ]
  },
  {
   "cell_type": "code",
   "execution_count": 17,
   "metadata": {},
   "outputs": [
    {
     "data": {
      "text/plain": [
       "<matplotlib.image.AxesImage at 0x254464054b0>"
      ]
     },
     "execution_count": 17,
     "metadata": {},
     "output_type": "execute_result"
    },
    {
     "data": {
      "image/png": "[encoded data removed]",
      "text/plain": [
       "<Figure size 480x480 with 1 Axes>"
      ]
     },
     "metadata": {},
     "output_type": "display_data"
    }
   ],
   "source": [
    "plt.matshow(np.resize(tf.where(result['output']>0, 1, 0), shape))"
   ]
  }
 ],
 "metadata": {
  "kernelspec": {
   "display_name": "Python 3",
   "language": "python",
   "name": "python3"
  },
  "language_info": {
   "codemirror_mode": {
    "name": "ipython",
    "version": 3
   },
   "file_extension": ".py",
   "mimetype": "text/x-python",
   "name": "python",
   "nbconvert_exporter": "python",
   "pygments_lexer": "ipython3",
   "version": "3.10.9"
  },
  "orig_nbformat": 4,
  "vscode": {
   "interpreter": {
    "hash": "afb734500600fd355917ca529030176ea0ca205570884b88f2f6f7d791fd3fbe"
   }
  }
 },
 "nbformat": 4,
 "nbformat_minor": 2
}
